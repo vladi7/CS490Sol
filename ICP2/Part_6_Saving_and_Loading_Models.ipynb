{
  "nbformat": 4,
  "nbformat_minor": 0,
  "metadata": {
    "colab": {
      "name": "Part 6 - Saving and Loading Models.ipynb",
      "version": "0.3.2",
      "provenance": [],
      "collapsed_sections": [],
      "toc_visible": true
    },
    "language_info": {
      "codemirror_mode": {
        "name": "ipython",
        "version": 3
      },
      "file_extension": ".py",
      "mimetype": "text/x-python",
      "name": "python",
      "nbconvert_exporter": "python",
      "pygments_lexer": "ipython3",
      "version": "3.6.6"
    },
    "kernelspec": {
      "name": "python3",
      "display_name": "Python 3"
    },
    "accelerator": "GPU"
  },
  "cells": [
    {
      "cell_type": "markdown",
      "metadata": {
        "id": "tNTJ_QDmQW5d",
        "colab_type": "text"
      },
      "source": [
        "# Saving and Loading Models\n",
        "\n",
        "In this notebook, I'll show you how to save and load models with PyTorch. This is important because you'll often want to load previously trained models to use in making predictions or to continue training on new data."
      ]
    },
    {
      "cell_type": "code",
      "metadata": {
        "id": "R97FmACVQW5i",
        "colab_type": "code",
        "colab": {}
      },
      "source": [
        "%matplotlib inline\n",
        "%config InlineBackend.figure_format = 'retina'\n",
        "\n",
        "import matplotlib.pyplot as plt\n",
        "\n",
        "import torch\n",
        "from torch import nn\n",
        "from torch import optim\n",
        "import torch.nn.functional as F\n",
        "from torchvision import datasets, transforms\n",
        "\n",
        "from introtopytorch import helper\n",
        "import fc_model"
      ],
      "execution_count": 0,
      "outputs": []
    },
    {
      "cell_type": "code",
      "metadata": {
        "id": "zV4gNH1UZ1I0",
        "colab_type": "code",
        "outputId": "e5697882-dd91-4713-cf53-0ae7d1935227",
        "colab": {
          "base_uri": "https://localhost:8080/",
          "height": 51
        }
      },
      "source": [
        "!ls"
      ],
      "execution_count": 30,
      "outputs": [
        {
          "output_type": "stream",
          "text": [
            "checkpoint.pth\thelper.py\tintro-to-pytorch    __MACOSX\t sample_data\n",
            "fc_model.py\tintrotopytorch\tintrotopytorch.zip  __pycache__\n"
          ],
          "name": "stdout"
        }
      ]
    },
    {
      "cell_type": "code",
      "metadata": {
        "id": "LJD8nWVqQW5w",
        "colab_type": "code",
        "colab": {}
      },
      "source": [
        "# Define a transform to normalize the data\n",
        "transform = transforms.Compose([transforms.ToTensor(),\n",
        "                                transforms.Normalize((0.5,), (0.5,))])\n",
        "# Download and load the training data\n",
        "trainset = datasets.FashionMNIST('~/.pytorch/F_MNIST_data/', download=True, train=True, transform=transform)\n",
        "trainloader = torch.utils.data.DataLoader(trainset, batch_size=64, shuffle=True)\n",
        "\n",
        "# Download and load the test data\n",
        "testset = datasets.FashionMNIST('~/.pytorch/F_MNIST_data/', download=True, train=False, transform=transform)\n",
        "testloader = torch.utils.data.DataLoader(testset, batch_size=64, shuffle=True)"
      ],
      "execution_count": 0,
      "outputs": []
    },
    {
      "cell_type": "markdown",
      "metadata": {
        "id": "cPNbqF9FQW57",
        "colab_type": "text"
      },
      "source": [
        "Here we can see one of the images."
      ]
    },
    {
      "cell_type": "code",
      "metadata": {
        "id": "wLPT-J_AQW5-",
        "colab_type": "code",
        "outputId": "be8e7484-e4f9-406b-abfd-cf572f08a198",
        "colab": {
          "base_uri": "https://localhost:8080/",
          "height": 250
        }
      },
      "source": [
        "image, label = next(iter(trainloader))\n",
        "helper.imshow(image[0,:]);"
      ],
      "execution_count": 33,
      "outputs": [
        {
          "output_type": "display_data",
          "data": {
            "image/png": "[encoded data removed]",
            "text/plain": [
              "<Figure size 432x288 with 1 Axes>"
            ]
          },
          "metadata": {
            "tags": [],
            "image/png": {
              "width": 233,
              "height": 233
            }
          }
        }
      ]
    },
    {
      "cell_type": "markdown",
      "metadata": {
        "id": "oKLQUUOkQW6T",
        "colab_type": "text"
      },
      "source": [
        "# Train a network\n",
        "\n",
        "To make things more concise here, I moved the model architecture and training code from the last part to a file called `fc_model`. Importing this, we can easily create a fully-connected network with `fc_model.Network`, and train the network using `fc_model.train`. I'll use this model (once it's trained) to demonstrate how we can save and load models."
      ]
    },
    {
      "cell_type": "code",
      "metadata": {
        "id": "WvDg1SQJQW6W",
        "colab_type": "code",
        "colab": {}
      },
      "source": [
        "# Create the network, define the criterion and optimizer\n",
        "\n",
        "model = fc_model.Network(784, 10, [512, 256, 128])\n",
        "criterion = nn.NLLLoss()\n",
        "optimizer = optim.Adam(model.parameters(), lr=0.001)"
      ],
      "execution_count": 0,
      "outputs": []
    },
    {
      "cell_type": "code",
      "metadata": {
        "id": "PU_W73dpQW6f",
        "colab_type": "code",
        "outputId": "d7bafa2e-7673-42a2-e045-47d74be37a3e",
        "colab": {
          "base_uri": "https://localhost:8080/",
          "height": 799
        }
      },
      "source": [
        "fc_model.train(model, trainloader, testloader, criterion, optimizer, epochs=2)"
      ],
      "execution_count": 35,
      "outputs": [
        {
          "output_type": "stream",
          "text": [
            "Epoch: 1/2..  Training Loss: 1.642..  Test Loss: 0.954..  Test Accuracy: 0.653\n",
            "Epoch: 1/2..  Training Loss: 0.996..  Test Loss: 0.736..  Test Accuracy: 0.721\n",
            "Epoch: 1/2..  Training Loss: 0.867..  Test Loss: 0.706..  Test Accuracy: 0.718\n",
            "Epoch: 1/2..  Training Loss: 0.809..  Test Loss: 0.646..  Test Accuracy: 0.750\n",
            "Epoch: 1/2..  Training Loss: 0.793..  Test Loss: 0.632..  Test Accuracy: 0.759\n",
            "Epoch: 1/2..  Training Loss: 0.729..  Test Loss: 0.609..  Test Accuracy: 0.757\n",
            "Epoch: 1/2..  Training Loss: 0.688..  Test Loss: 0.612..  Test Accuracy: 0.771\n",
            "Epoch: 1/2..  Training Loss: 0.707..  Test Loss: 0.584..  Test Accuracy: 0.782\n",
            "Epoch: 1/2..  Training Loss: 0.654..  Test Loss: 0.551..  Test Accuracy: 0.793\n",
            "Epoch: 1/2..  Training Loss: 0.651..  Test Loss: 0.540..  Test Accuracy: 0.795\n",
            "Epoch: 1/2..  Training Loss: 0.630..  Test Loss: 0.551..  Test Accuracy: 0.797\n",
            "Epoch: 1/2..  Training Loss: 0.633..  Test Loss: 0.527..  Test Accuracy: 0.806\n",
            "Epoch: 1/2..  Training Loss: 0.585..  Test Loss: 0.536..  Test Accuracy: 0.800\n",
            "Epoch: 1/2..  Training Loss: 0.616..  Test Loss: 0.522..  Test Accuracy: 0.814\n",
            "Epoch: 1/2..  Training Loss: 0.614..  Test Loss: 0.524..  Test Accuracy: 0.809\n",
            "Epoch: 1/2..  Training Loss: 0.572..  Test Loss: 0.519..  Test Accuracy: 0.808\n",
            "Epoch: 1/2..  Training Loss: 0.590..  Test Loss: 0.512..  Test Accuracy: 0.810\n",
            "Epoch: 1/2..  Training Loss: 0.619..  Test Loss: 0.501..  Test Accuracy: 0.815\n",
            "Epoch: 1/2..  Training Loss: 0.560..  Test Loss: 0.477..  Test Accuracy: 0.822\n",
            "Epoch: 1/2..  Training Loss: 0.536..  Test Loss: 0.503..  Test Accuracy: 0.820\n",
            "Epoch: 1/2..  Training Loss: 0.600..  Test Loss: 0.508..  Test Accuracy: 0.807\n",
            "Epoch: 1/2..  Training Loss: 0.551..  Test Loss: 0.483..  Test Accuracy: 0.822\n",
            "Epoch: 1/2..  Training Loss: 0.555..  Test Loss: 0.489..  Test Accuracy: 0.819\n",
            "Epoch: 2/2..  Training Loss: 0.584..  Test Loss: 0.471..  Test Accuracy: 0.827\n",
            "Epoch: 2/2..  Training Loss: 0.549..  Test Loss: 0.505..  Test Accuracy: 0.813\n",
            "Epoch: 2/2..  Training Loss: 0.579..  Test Loss: 0.491..  Test Accuracy: 0.812\n",
            "Epoch: 2/2..  Training Loss: 0.527..  Test Loss: 0.480..  Test Accuracy: 0.822\n",
            "Epoch: 2/2..  Training Loss: 0.559..  Test Loss: 0.491..  Test Accuracy: 0.816\n",
            "Epoch: 2/2..  Training Loss: 0.538..  Test Loss: 0.482..  Test Accuracy: 0.814\n",
            "Epoch: 2/2..  Training Loss: 0.528..  Test Loss: 0.468..  Test Accuracy: 0.829\n",
            "Epoch: 2/2..  Training Loss: 0.538..  Test Loss: 0.477..  Test Accuracy: 0.822\n",
            "Epoch: 2/2..  Training Loss: 0.525..  Test Loss: 0.459..  Test Accuracy: 0.832\n",
            "Epoch: 2/2..  Training Loss: 0.539..  Test Loss: 0.466..  Test Accuracy: 0.827\n",
            "Epoch: 2/2..  Training Loss: 0.563..  Test Loss: 0.461..  Test Accuracy: 0.834\n",
            "Epoch: 2/2..  Training Loss: 0.534..  Test Loss: 0.449..  Test Accuracy: 0.835\n",
            "Epoch: 2/2..  Training Loss: 0.529..  Test Loss: 0.469..  Test Accuracy: 0.826\n",
            "Epoch: 2/2..  Training Loss: 0.531..  Test Loss: 0.456..  Test Accuracy: 0.831\n",
            "Epoch: 2/2..  Training Loss: 0.484..  Test Loss: 0.468..  Test Accuracy: 0.829\n",
            "Epoch: 2/2..  Training Loss: 0.500..  Test Loss: 0.491..  Test Accuracy: 0.821\n",
            "Epoch: 2/2..  Training Loss: 0.513..  Test Loss: 0.453..  Test Accuracy: 0.829\n",
            "Epoch: 2/2..  Training Loss: 0.539..  Test Loss: 0.441..  Test Accuracy: 0.841\n",
            "Epoch: 2/2..  Training Loss: 0.535..  Test Loss: 0.445..  Test Accuracy: 0.841\n",
            "Epoch: 2/2..  Training Loss: 0.529..  Test Loss: 0.449..  Test Accuracy: 0.836\n",
            "Epoch: 2/2..  Training Loss: 0.494..  Test Loss: 0.450..  Test Accuracy: 0.838\n",
            "Epoch: 2/2..  Training Loss: 0.507..  Test Loss: 0.437..  Test Accuracy: 0.845\n",
            "Epoch: 2/2..  Training Loss: 0.490..  Test Loss: 0.445..  Test Accuracy: 0.839\n"
          ],
          "name": "stdout"
        }
      ]
    },
    {
      "cell_type": "markdown",
      "metadata": {
        "id": "-Uey75qCQW6p",
        "colab_type": "text"
      },
      "source": [
        "## Saving and loading networks\n",
        "\n",
        "As you can imagine, it's impractical to train a network every time you need to use it. Instead, we can save trained networks then load them later to train more or use them for predictions.\n",
        "\n",
        "The parameters for PyTorch networks are stored in a model's `state_dict`. We can see the state dict contains the weight and bias matrices for each of our layers."
      ]
    },
    {
      "cell_type": "code",
      "metadata": {
        "id": "JraAoAMbQW6s",
        "colab_type": "code",
        "outputId": "ccc8fcbd-925e-4e47-ab4e-623642955d90",
        "colab": {
          "base_uri": "https://localhost:8080/",
          "height": 292
        }
      },
      "source": [
        "print(\"Our model: \\n\\n\", model, '\\n')\n",
        "print(\"The state dict keys: \\n\\n\", model.state_dict().keys())"
      ],
      "execution_count": 36,
      "outputs": [
        {
          "output_type": "stream",
          "text": [
            "Our model: \n",
            "\n",
            " Network(\n",
            "  (hidden_layers): ModuleList(\n",
            "    (0): Linear(in_features=784, out_features=512, bias=True)\n",
            "    (1): Linear(in_features=512, out_features=256, bias=True)\n",
            "    (2): Linear(in_features=256, out_features=128, bias=True)\n",
            "  )\n",
            "  (output): Linear(in_features=128, out_features=10, bias=True)\n",
            "  (dropout): Dropout(p=0.5)\n",
            ") \n",
            "\n",
            "The state dict keys: \n",
            "\n",
            " odict_keys(['hidden_layers.0.weight', 'hidden_layers.0.bias', 'hidden_layers.1.weight', 'hidden_layers.1.bias', 'hidden_layers.2.weight', 'hidden_layers.2.bias', 'output.weight', 'output.bias'])\n"
          ],
          "name": "stdout"
        }
      ]
    },
    {
      "cell_type": "markdown",
      "metadata": {
        "id": "Z6Cmp1HrQW62",
        "colab_type": "text"
      },
      "source": [
        "The simplest thing to do is simply save the state dict with `torch.save`. For example, we can save it to a file `'checkpoint.pth'`."
      ]
    },
    {
      "cell_type": "code",
      "metadata": {
        "id": "wGlj3kB7QW65",
        "colab_type": "code",
        "colab": {}
      },
      "source": [
        "torch.save(model.state_dict(), 'checkpoint.pth')"
      ],
      "execution_count": 0,
      "outputs": []
    },
    {
      "cell_type": "markdown",
      "metadata": {
        "id": "ODewieXyQW7E",
        "colab_type": "text"
      },
      "source": [
        "Then we can load the state dict with `torch.load`."
      ]
    },
    {
      "cell_type": "code",
      "metadata": {
        "id": "PNy9AtAgQW7H",
        "colab_type": "code",
        "outputId": "2701f567-ee5d-438b-c89a-f100c08843ce",
        "colab": {
          "base_uri": "https://localhost:8080/",
          "height": 54
        }
      },
      "source": [
        "state_dict = torch.load('checkpoint.pth')\n",
        "print(state_dict.keys())"
      ],
      "execution_count": 38,
      "outputs": [
        {
          "output_type": "stream",
          "text": [
            "odict_keys(['hidden_layers.0.weight', 'hidden_layers.0.bias', 'hidden_layers.1.weight', 'hidden_layers.1.bias', 'hidden_layers.2.weight', 'hidden_layers.2.bias', 'output.weight', 'output.bias'])\n"
          ],
          "name": "stdout"
        }
      ]
    },
    {
      "cell_type": "markdown",
      "metadata": {
        "id": "4XZ7mJ4IQW7T",
        "colab_type": "text"
      },
      "source": [
        "And to load the state dict in to the network, you do `model.load_state_dict(state_dict)`."
      ]
    },
    {
      "cell_type": "code",
      "metadata": {
        "id": "5pYKOz05QW7X",
        "colab_type": "code",
        "outputId": "a4f6f5e4-ad41-43ad-fcbf-dcc7efba4b43",
        "colab": {
          "base_uri": "https://localhost:8080/",
          "height": 34
        }
      },
      "source": [
        "model.load_state_dict(state_dict)"
      ],
      "execution_count": 39,
      "outputs": [
        {
          "output_type": "execute_result",
          "data": {
            "text/plain": [
              "IncompatibleKeys(missing_keys=[], unexpected_keys=[])"
            ]
          },
          "metadata": {
            "tags": []
          },
          "execution_count": 39
        }
      ]
    },
    {
      "cell_type": "code",
      "metadata": {
        "id": "TD944eIdLrhf",
        "colab_type": "code",
        "colab": {
          "base_uri": "https://localhost:8080/",
          "height": 223
        },
        "outputId": "57134aa2-74e1-4f6d-e3d4-e656af025f6b"
      },
      "source": [
        "# Import helper module (should be in the repo)\n",
        "from introtopytorch import helper\n",
        "\n",
        "# Test out your network!\n",
        "\n",
        "model.eval()\n",
        "\n",
        "dataiter = iter(testloader)\n",
        "images, labels = dataiter.next()\n",
        "img = images[0]\n",
        "# Convert 2D image to 1D vector\n",
        "img = img.view(1, 784)\n",
        "\n",
        "# Calculate the class probabilities (softmax) for img\n",
        "with torch.no_grad():\n",
        "    output = model.forward(img)\n",
        "\n",
        "ps = torch.exp(output)\n",
        "\n",
        "# Plot the image and probabilities\n",
        "helper.view_classify(img.view(1, 28, 28), ps, version='Fashion')"
      ],
      "execution_count": 51,
      "outputs": [
        {
          "output_type": "display_data",
          "data": {
            "image/png": "[encoded data removed]",
            "text/plain": [
              "<Figure size 432x648 with 2 Axes>"
            ]
          },
          "metadata": {
            "tags": [],
            "image/png": {
              "width": 423,
              "height": 206
            }
          }
        }
      ]
    },
    {
      "cell_type": "markdown",
      "metadata": {
        "id": "1xj_fZMVQW7j",
        "colab_type": "text"
      },
      "source": [
        "Seems pretty straightforward, but as usual it's a bit more complicated. Loading the state dict works only if the model architecture is exactly the same as the checkpoint architecture. If I create a model with a different architecture, this fails."
      ]
    },
    {
      "cell_type": "code",
      "metadata": {
        "id": "J89VGPeVQW7m",
        "colab_type": "code",
        "outputId": "660352bd-c150-4813-feb3-e9d2314ff5b3",
        "colab": {
          "base_uri": "https://localhost:8080/",
          "height": 34
        }
      },
      "source": [
        "# Try this\n",
        "model = fc_model.Network(784, 10, [512, 256, 128])\n",
        "# This will throw an error because the tensor sizes are wrong!\n",
        "model.load_state_dict(state_dict)"
      ],
      "execution_count": 50,
      "outputs": [
        {
          "output_type": "execute_result",
          "data": {
            "text/plain": [
              "IncompatibleKeys(missing_keys=[], unexpected_keys=[])"
            ]
          },
          "metadata": {
            "tags": []
          },
          "execution_count": 50
        }
      ]
    },
    {
      "cell_type": "markdown",
      "metadata": {
        "id": "a0Yt_blbQW7w",
        "colab_type": "text"
      },
      "source": [
        "This means we need to rebuild the model exactly as it was when trained. Information about the model architecture needs to be saved in the checkpoint, along with the state dict. To do this, you build a dictionary with all the information you need to compeletely rebuild the model."
      ]
    },
    {
      "cell_type": "code",
      "metadata": {
        "id": "MSRll5APQW70",
        "colab_type": "code",
        "colab": {}
      },
      "source": [
        "checkpoint = {'input_size': 784,\n",
        "              'output_size': 10,\n",
        "              'hidden_layers': [each.out_features for each in model.hidden_layers],\n",
        "              'state_dict': model.state_dict()}\n",
        "\n",
        "torch.save(checkpoint, 'checkpoint.pth')"
      ],
      "execution_count": 0,
      "outputs": []
    },
    {
      "cell_type": "markdown",
      "metadata": {
        "id": "Zwil-lq-QW8B",
        "colab_type": "text"
      },
      "source": [
        "Now the checkpoint has all the necessary information to rebuild the trained model. You can easily make that a function if you want. Similarly, we can write a function to load checkpoints. "
      ]
    },
    {
      "cell_type": "code",
      "metadata": {
        "id": "Q5BxJSQjQW8E",
        "colab_type": "code",
        "colab": {}
      },
      "source": [
        "def load_checkpoint(filepath):\n",
        "    checkpoint = torch.load(filepath)\n",
        "    model = fc_model.Network(checkpoint['input_size'],\n",
        "                             checkpoint['output_size'],\n",
        "                             checkpoint['hidden_layers'])\n",
        "    model.load_state_dict(checkpoint['state_dict'])\n",
        "    \n",
        "    return model"
      ],
      "execution_count": 0,
      "outputs": []
    },
    {
      "cell_type": "code",
      "metadata": {
        "id": "NA7Jd24qQW8M",
        "colab_type": "code",
        "outputId": "30ae097f-001c-4bcd-a06b-9b5f825ef13d",
        "colab": {
          "base_uri": "https://localhost:8080/",
          "height": 170
        }
      },
      "source": [
        "model = load_checkpoint('checkpoint.pth')\n",
        "print(model)"
      ],
      "execution_count": 48,
      "outputs": [
        {
          "output_type": "stream",
          "text": [
            "Network(\n",
            "  (hidden_layers): ModuleList(\n",
            "    (0): Linear(in_features=784, out_features=512, bias=True)\n",
            "    (1): Linear(in_features=512, out_features=256, bias=True)\n",
            "    (2): Linear(in_features=256, out_features=128, bias=True)\n",
            "  )\n",
            "  (output): Linear(in_features=128, out_features=10, bias=True)\n",
            "  (dropout): Dropout(p=0.5)\n",
            ")\n"
          ],
          "name": "stdout"
        }
      ]
    },
    {
      "cell_type": "code",
      "metadata": {
        "id": "uX5CzWm8S0kJ",
        "colab_type": "code",
        "outputId": "24b0b4be-1fbb-4485-e98f-2bc10f53ae8d",
        "colab": {
          "base_uri": "https://localhost:8080/",
          "height": 68
        }
      },
      "source": [
        "!ls\n"
      ],
      "execution_count": 49,
      "outputs": [
        {
          "output_type": "stream",
          "text": [
            "CatDogdata\tfc_model.py\tintro-to-pytorch    __pycache__\n",
            "CatDogdata.zip\thelper.py\tintrotopytorch.zip  sample_data\n",
            "checkpoint.pth\tintrotopytorch\t__MACOSX\n"
          ],
          "name": "stdout"
        }
      ]
    }
  ]
}